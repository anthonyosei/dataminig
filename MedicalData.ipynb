{
  "nbformat": 4,
  "nbformat_minor": 0,
  "metadata": {
    "colab": {
      "provenance": [],
      "authorship_tag": "ABX9TyPageBdfTgvigzv+yaIKLp2",
      "include_colab_link": true
    },
    "kernelspec": {
      "name": "python3",
      "display_name": "Python 3"
    },
    "language_info": {
      "name": "python"
    }
  },
  "cells": [
    {
      "cell_type": "markdown",
      "metadata": {
        "id": "view-in-github",
        "colab_type": "text"
      },
      "source": [
        "<a href=\"https://colab.research.google.com/github/anthonyosei/dataminig/blob/main/MedicalData.ipynb\" target=\"_parent\"><img src=\"https://colab.research.google.com/assets/colab-badge.svg\" alt=\"Open In Colab\"/></a>"
      ]
    },
    {
      "cell_type": "code",
      "execution_count": 1,
      "metadata": {
        "id": "jaHMs0UT3i_8"
      },
      "outputs": [],
      "source": [
        "import pandas as pd\n",
        "import numpy as np \n",
        "import matplotlib.pyplot as plt\n",
        "%matplotlib inline\n",
        "import seaborn as sns\n",
        "import matplotlib.ticker as mtick\n",
        "from sklearn.preprocessing import StandardScaler, MinMaxScaler\n",
        "from sklearn.linear_model import LogisticRegression\n",
        "from sklearn.tree import DecisionTreeClassifier\n",
        "from sklearn.ensemble import RandomForestClassifier\n",
        "from sklearn.svm import SVC\n",
        "from sklearn.ensemble import AdaBoostClassifier\n",
        "from sklearn.neighbors import KNeighborsClassifier\n",
        "from xgboost import XGBClassifier\n",
        "from sklearn.model_selection import GridSearchCV\n",
        "from sklearn.metrics import accuracy_score\n"
      ]
    },
    {
      "cell_type": "code",
      "source": [
        "df = pd.read_csv('cardio-vascular--ACWData-1.csv')\n",
        "df"
      ],
      "metadata": {
        "colab": {
          "base_uri": "https://localhost:8080/",
          "height": 423
        },
        "id": "bArLWRFw4Oh8",
        "outputId": "695b70ea-9608-471c-b9f7-a431081f846e"
      },
      "execution_count": 2,
      "outputs": [
        {
          "output_type": "execute_result",
          "data": {
            "text/plain": [
              "        Random      Id Indication Diabetes  IHD Hypertension Arrhythmia  \\\n",
              "0     0.473452  198992        CVA      yes  yes          yes        yes   \n",
              "1     0.218756  253100        CVA       no   no           no         no   \n",
              "2     0.131260  155737        CVA       no  yes          yes         no   \n",
              "3     0.102954  251222        A-F       no  yes           no         no   \n",
              "4     0.236142  197183        CVA       no   no           no         no   \n",
              "...        ...     ...        ...      ...  ...          ...        ...   \n",
              "1515  0.587315  113117        Asx       no  yes          yes        yes   \n",
              "1516  0.932265  103595        CVA       no  yes          yes         no   \n",
              "1517  0.876531  211309        CVA       no   no          yes         no   \n",
              "1518  0.812032  116379        TIA       no   no          yes        yes   \n",
              "1519  0.517688  172848        A-F       no   no           no         no   \n",
              "\n",
              "     History  IPSI Contra   label  \n",
              "0         no  89.0    100    Risk  \n",
              "1         no  67.0    100  NoRisk  \n",
              "2         no  79.0     20  NoRisk  \n",
              "3         no  69.0     40  NoRisk  \n",
              "4         no  89.0     30  NoRisk  \n",
              "...      ...   ...    ...     ...  \n",
              "1515      no  74.0    100    Risk  \n",
              "1516      no  84.0     50  NoRisk  \n",
              "1517      no  76.0     20  NoRisk  \n",
              "1518      no  75.0     35  NoRisk  \n",
              "1519      no  81.0     30  NoRisk  \n",
              "\n",
              "[1520 rows x 11 columns]"
            ],
            "text/html": [
              "\n",
              "  <div id=\"df-ef952ee0-d3c8-45f5-b80a-f77c3383dec2\">\n",
              "    <div class=\"colab-df-container\">\n",
              "      <div>\n",
              "<style scoped>\n",
              "    .dataframe tbody tr th:only-of-type {\n",
              "        vertical-align: middle;\n",
              "    }\n",
              "\n",
              "    .dataframe tbody tr th {\n",
              "        vertical-align: top;\n",
              "    }\n",
              "\n",
              "    .dataframe thead th {\n",
              "        text-align: right;\n",
              "    }\n",
              "</style>\n",
              "<table border=\"1\" class=\"dataframe\">\n",
              "  <thead>\n",
              "    <tr style=\"text-align: right;\">\n",
              "      <th></th>\n",
              "      <th>Random</th>\n",
              "      <th>Id</th>\n",
              "      <th>Indication</th>\n",
              "      <th>Diabetes</th>\n",
              "      <th>IHD</th>\n",
              "      <th>Hypertension</th>\n",
              "      <th>Arrhythmia</th>\n",
              "      <th>History</th>\n",
              "      <th>IPSI</th>\n",
              "      <th>Contra</th>\n",
              "      <th>label</th>\n",
              "    </tr>\n",
              "  </thead>\n",
              "  <tbody>\n",
              "    <tr>\n",
              "      <th>0</th>\n",
              "      <td>0.473452</td>\n",
              "      <td>198992</td>\n",
              "      <td>CVA</td>\n",
              "      <td>yes</td>\n",
              "      <td>yes</td>\n",
              "      <td>yes</td>\n",
              "      <td>yes</td>\n",
              "      <td>no</td>\n",
              "      <td>89.0</td>\n",
              "      <td>100</td>\n",
              "      <td>Risk</td>\n",
              "    </tr>\n",
              "    <tr>\n",
              "      <th>1</th>\n",
              "      <td>0.218756</td>\n",
              "      <td>253100</td>\n",
              "      <td>CVA</td>\n",
              "      <td>no</td>\n",
              "      <td>no</td>\n",
              "      <td>no</td>\n",
              "      <td>no</td>\n",
              "      <td>no</td>\n",
              "      <td>67.0</td>\n",
              "      <td>100</td>\n",
              "      <td>NoRisk</td>\n",
              "    </tr>\n",
              "    <tr>\n",
              "      <th>2</th>\n",
              "      <td>0.131260</td>\n",
              "      <td>155737</td>\n",
              "      <td>CVA</td>\n",
              "      <td>no</td>\n",
              "      <td>yes</td>\n",
              "      <td>yes</td>\n",
              "      <td>no</td>\n",
              "      <td>no</td>\n",
              "      <td>79.0</td>\n",
              "      <td>20</td>\n",
              "      <td>NoRisk</td>\n",
              "    </tr>\n",
              "    <tr>\n",
              "      <th>3</th>\n",
              "      <td>0.102954</td>\n",
              "      <td>251222</td>\n",
              "      <td>A-F</td>\n",
              "      <td>no</td>\n",
              "      <td>yes</td>\n",
              "      <td>no</td>\n",
              "      <td>no</td>\n",
              "      <td>no</td>\n",
              "      <td>69.0</td>\n",
              "      <td>40</td>\n",
              "      <td>NoRisk</td>\n",
              "    </tr>\n",
              "    <tr>\n",
              "      <th>4</th>\n",
              "      <td>0.236142</td>\n",
              "      <td>197183</td>\n",
              "      <td>CVA</td>\n",
              "      <td>no</td>\n",
              "      <td>no</td>\n",
              "      <td>no</td>\n",
              "      <td>no</td>\n",
              "      <td>no</td>\n",
              "      <td>89.0</td>\n",
              "      <td>30</td>\n",
              "      <td>NoRisk</td>\n",
              "    </tr>\n",
              "    <tr>\n",
              "      <th>...</th>\n",
              "      <td>...</td>\n",
              "      <td>...</td>\n",
              "      <td>...</td>\n",
              "      <td>...</td>\n",
              "      <td>...</td>\n",
              "      <td>...</td>\n",
              "      <td>...</td>\n",
              "      <td>...</td>\n",
              "      <td>...</td>\n",
              "      <td>...</td>\n",
              "      <td>...</td>\n",
              "    </tr>\n",
              "    <tr>\n",
              "      <th>1515</th>\n",
              "      <td>0.587315</td>\n",
              "      <td>113117</td>\n",
              "      <td>Asx</td>\n",
              "      <td>no</td>\n",
              "      <td>yes</td>\n",
              "      <td>yes</td>\n",
              "      <td>yes</td>\n",
              "      <td>no</td>\n",
              "      <td>74.0</td>\n",
              "      <td>100</td>\n",
              "      <td>Risk</td>\n",
              "    </tr>\n",
              "    <tr>\n",
              "      <th>1516</th>\n",
              "      <td>0.932265</td>\n",
              "      <td>103595</td>\n",
              "      <td>CVA</td>\n",
              "      <td>no</td>\n",
              "      <td>yes</td>\n",
              "      <td>yes</td>\n",
              "      <td>no</td>\n",
              "      <td>no</td>\n",
              "      <td>84.0</td>\n",
              "      <td>50</td>\n",
              "      <td>NoRisk</td>\n",
              "    </tr>\n",
              "    <tr>\n",
              "      <th>1517</th>\n",
              "      <td>0.876531</td>\n",
              "      <td>211309</td>\n",
              "      <td>CVA</td>\n",
              "      <td>no</td>\n",
              "      <td>no</td>\n",
              "      <td>yes</td>\n",
              "      <td>no</td>\n",
              "      <td>no</td>\n",
              "      <td>76.0</td>\n",
              "      <td>20</td>\n",
              "      <td>NoRisk</td>\n",
              "    </tr>\n",
              "    <tr>\n",
              "      <th>1518</th>\n",
              "      <td>0.812032</td>\n",
              "      <td>116379</td>\n",
              "      <td>TIA</td>\n",
              "      <td>no</td>\n",
              "      <td>no</td>\n",
              "      <td>yes</td>\n",
              "      <td>yes</td>\n",
              "      <td>no</td>\n",
              "      <td>75.0</td>\n",
              "      <td>35</td>\n",
              "      <td>NoRisk</td>\n",
              "    </tr>\n",
              "    <tr>\n",
              "      <th>1519</th>\n",
              "      <td>0.517688</td>\n",
              "      <td>172848</td>\n",
              "      <td>A-F</td>\n",
              "      <td>no</td>\n",
              "      <td>no</td>\n",
              "      <td>no</td>\n",
              "      <td>no</td>\n",
              "      <td>no</td>\n",
              "      <td>81.0</td>\n",
              "      <td>30</td>\n",
              "      <td>NoRisk</td>\n",
              "    </tr>\n",
              "  </tbody>\n",
              "</table>\n",
              "<p>1520 rows × 11 columns</p>\n",
              "</div>\n",
              "      <button class=\"colab-df-convert\" onclick=\"convertToInteractive('df-ef952ee0-d3c8-45f5-b80a-f77c3383dec2')\"\n",
              "              title=\"Convert this dataframe to an interactive table.\"\n",
              "              style=\"display:none;\">\n",
              "        \n",
              "  <svg xmlns=\"http://www.w3.org/2000/svg\" height=\"24px\"viewBox=\"0 0 24 24\"\n",
              "       width=\"24px\">\n",
              "    <path d=\"M0 0h24v24H0V0z\" fill=\"none\"/>\n",
              "    <path d=\"M18.56 5.44l.94 2.06.94-2.06 2.06-.94-2.06-.94-.94-2.06-.94 2.06-2.06.94zm-11 1L8.5 8.5l.94-2.06 2.06-.94-2.06-.94L8.5 2.5l-.94 2.06-2.06.94zm10 10l.94 2.06.94-2.06 2.06-.94-2.06-.94-.94-2.06-.94 2.06-2.06.94z\"/><path d=\"M17.41 7.96l-1.37-1.37c-.4-.4-.92-.59-1.43-.59-.52 0-1.04.2-1.43.59L10.3 9.45l-7.72 7.72c-.78.78-.78 2.05 0 2.83L4 21.41c.39.39.9.59 1.41.59.51 0 1.02-.2 1.41-.59l7.78-7.78 2.81-2.81c.8-.78.8-2.07 0-2.86zM5.41 20L4 18.59l7.72-7.72 1.47 1.35L5.41 20z\"/>\n",
              "  </svg>\n",
              "      </button>\n",
              "      \n",
              "  <style>\n",
              "    .colab-df-container {\n",
              "      display:flex;\n",
              "      flex-wrap:wrap;\n",
              "      gap: 12px;\n",
              "    }\n",
              "\n",
              "    .colab-df-convert {\n",
              "      background-color: #E8F0FE;\n",
              "      border: none;\n",
              "      border-radius: 50%;\n",
              "      cursor: pointer;\n",
              "      display: none;\n",
              "      fill: #1967D2;\n",
              "      height: 32px;\n",
              "      padding: 0 0 0 0;\n",
              "      width: 32px;\n",
              "    }\n",
              "\n",
              "    .colab-df-convert:hover {\n",
              "      background-color: #E2EBFA;\n",
              "      box-shadow: 0px 1px 2px rgba(60, 64, 67, 0.3), 0px 1px 3px 1px rgba(60, 64, 67, 0.15);\n",
              "      fill: #174EA6;\n",
              "    }\n",
              "\n",
              "    [theme=dark] .colab-df-convert {\n",
              "      background-color: #3B4455;\n",
              "      fill: #D2E3FC;\n",
              "    }\n",
              "\n",
              "    [theme=dark] .colab-df-convert:hover {\n",
              "      background-color: #434B5C;\n",
              "      box-shadow: 0px 1px 3px 1px rgba(0, 0, 0, 0.15);\n",
              "      filter: drop-shadow(0px 1px 2px rgba(0, 0, 0, 0.3));\n",
              "      fill: #FFFFFF;\n",
              "    }\n",
              "  </style>\n",
              "\n",
              "      <script>\n",
              "        const buttonEl =\n",
              "          document.querySelector('#df-ef952ee0-d3c8-45f5-b80a-f77c3383dec2 button.colab-df-convert');\n",
              "        buttonEl.style.display =\n",
              "          google.colab.kernel.accessAllowed ? 'block' : 'none';\n",
              "\n",
              "        async function convertToInteractive(key) {\n",
              "          const element = document.querySelector('#df-ef952ee0-d3c8-45f5-b80a-f77c3383dec2');\n",
              "          const dataTable =\n",
              "            await google.colab.kernel.invokeFunction('convertToInteractive',\n",
              "                                                     [key], {});\n",
              "          if (!dataTable) return;\n",
              "\n",
              "          const docLinkHtml = 'Like what you see? Visit the ' +\n",
              "            '<a target=\"_blank\" href=https://colab.research.google.com/notebooks/data_table.ipynb>data table notebook</a>'\n",
              "            + ' to learn more about interactive tables.';\n",
              "          element.innerHTML = '';\n",
              "          dataTable['output_type'] = 'display_data';\n",
              "          await google.colab.output.renderOutput(dataTable, element);\n",
              "          const docLink = document.createElement('div');\n",
              "          docLink.innerHTML = docLinkHtml;\n",
              "          element.appendChild(docLink);\n",
              "        }\n",
              "      </script>\n",
              "    </div>\n",
              "  </div>\n",
              "  "
            ]
          },
          "metadata": {},
          "execution_count": 2
        }
      ]
    },
    {
      "cell_type": "code",
      "source": [
        "df.head"
      ],
      "metadata": {
        "colab": {
          "base_uri": "https://localhost:8080/"
        },
        "id": "_sTvqT9C6ZTQ",
        "outputId": "7af048a6-8bc5-4d41-dd72-335d2b6e9971"
      },
      "execution_count": 3,
      "outputs": [
        {
          "output_type": "execute_result",
          "data": {
            "text/plain": [
              "<bound method NDFrame.head of         Random      Id Indication Diabetes  IHD Hypertension Arrhythmia  \\\n",
              "0     0.473452  198992        CVA      yes  yes          yes        yes   \n",
              "1     0.218756  253100        CVA       no   no           no         no   \n",
              "2     0.131260  155737        CVA       no  yes          yes         no   \n",
              "3     0.102954  251222        A-F       no  yes           no         no   \n",
              "4     0.236142  197183        CVA       no   no           no         no   \n",
              "...        ...     ...        ...      ...  ...          ...        ...   \n",
              "1515  0.587315  113117        Asx       no  yes          yes        yes   \n",
              "1516  0.932265  103595        CVA       no  yes          yes         no   \n",
              "1517  0.876531  211309        CVA       no   no          yes         no   \n",
              "1518  0.812032  116379        TIA       no   no          yes        yes   \n",
              "1519  0.517688  172848        A-F       no   no           no         no   \n",
              "\n",
              "     History  IPSI Contra   label  \n",
              "0         no  89.0    100    Risk  \n",
              "1         no  67.0    100  NoRisk  \n",
              "2         no  79.0     20  NoRisk  \n",
              "3         no  69.0     40  NoRisk  \n",
              "4         no  89.0     30  NoRisk  \n",
              "...      ...   ...    ...     ...  \n",
              "1515      no  74.0    100    Risk  \n",
              "1516      no  84.0     50  NoRisk  \n",
              "1517      no  76.0     20  NoRisk  \n",
              "1518      no  75.0     35  NoRisk  \n",
              "1519      no  81.0     30  NoRisk  \n",
              "\n",
              "[1520 rows x 11 columns]>"
            ]
          },
          "metadata": {},
          "execution_count": 3
        }
      ]
    },
    {
      "cell_type": "code",
      "source": [
        "df.columns"
      ],
      "metadata": {
        "colab": {
          "base_uri": "https://localhost:8080/"
        },
        "id": "26OLSRvE_oZL",
        "outputId": "bf31f8b3-888f-4bc0-c6c1-bbee8428b801"
      },
      "execution_count": 4,
      "outputs": [
        {
          "output_type": "execute_result",
          "data": {
            "text/plain": [
              "Index(['Random', 'Id', 'Indication', 'Diabetes', 'IHD', 'Hypertension',\n",
              "       'Arrhythmia', 'History', 'IPSI', 'Contra', 'label'],\n",
              "      dtype='object')"
            ]
          },
          "metadata": {},
          "execution_count": 4
        }
      ]
    },
    {
      "cell_type": "code",
      "source": [
        "df.tail"
      ],
      "metadata": {
        "colab": {
          "base_uri": "https://localhost:8080/"
        },
        "id": "rGt0mNGo65D3",
        "outputId": "4ffcf716-3a40-414b-b5e0-c7d4b678b065"
      },
      "execution_count": 5,
      "outputs": [
        {
          "output_type": "execute_result",
          "data": {
            "text/plain": [
              "<bound method NDFrame.tail of         Random      Id Indication Diabetes  IHD Hypertension Arrhythmia  \\\n",
              "0     0.473452  198992        CVA      yes  yes          yes        yes   \n",
              "1     0.218756  253100        CVA       no   no           no         no   \n",
              "2     0.131260  155737        CVA       no  yes          yes         no   \n",
              "3     0.102954  251222        A-F       no  yes           no         no   \n",
              "4     0.236142  197183        CVA       no   no           no         no   \n",
              "...        ...     ...        ...      ...  ...          ...        ...   \n",
              "1515  0.587315  113117        Asx       no  yes          yes        yes   \n",
              "1516  0.932265  103595        CVA       no  yes          yes         no   \n",
              "1517  0.876531  211309        CVA       no   no          yes         no   \n",
              "1518  0.812032  116379        TIA       no   no          yes        yes   \n",
              "1519  0.517688  172848        A-F       no   no           no         no   \n",
              "\n",
              "     History  IPSI Contra   label  \n",
              "0         no  89.0    100    Risk  \n",
              "1         no  67.0    100  NoRisk  \n",
              "2         no  79.0     20  NoRisk  \n",
              "3         no  69.0     40  NoRisk  \n",
              "4         no  89.0     30  NoRisk  \n",
              "...      ...   ...    ...     ...  \n",
              "1515      no  74.0    100    Risk  \n",
              "1516      no  84.0     50  NoRisk  \n",
              "1517      no  76.0     20  NoRisk  \n",
              "1518      no  75.0     35  NoRisk  \n",
              "1519      no  81.0     30  NoRisk  \n",
              "\n",
              "[1520 rows x 11 columns]>"
            ]
          },
          "metadata": {},
          "execution_count": 5
        }
      ]
    },
    {
      "cell_type": "code",
      "source": [
        "df.describe( include=\"all\") # displays the general infomation of the data"
      ],
      "metadata": {
        "colab": {
          "base_uri": "https://localhost:8080/",
          "height": 394
        },
        "id": "C6rNx1u76y8u",
        "outputId": "0230e9b1-fa51-4e56-9acf-9ff1d3a3617a"
      },
      "execution_count": 6,
      "outputs": [
        {
          "output_type": "execute_result",
          "data": {
            "text/plain": [
              "             Random             Id Indication Diabetes   IHD Hypertension  \\\n",
              "count   1520.000000    1520.000000       1517     1518  1520         1517   \n",
              "unique          NaN            NaN          5        2     2            2   \n",
              "top             NaN            NaN        A-F       no    no           no   \n",
              "freq            NaN            NaN        493     1441   801          784   \n",
              "mean       0.509681  188694.022368        NaN      NaN   NaN          NaN   \n",
              "std        0.284247   64355.870242        NaN      NaN   NaN          NaN   \n",
              "min        0.000000   78590.000000        NaN      NaN   NaN          NaN   \n",
              "25%        0.268463  137459.750000        NaN      NaN   NaN          NaN   \n",
              "50%        0.517759  191673.500000        NaN      NaN   NaN          NaN   \n",
              "75%        0.755068  244888.500000        NaN      NaN   NaN          NaN   \n",
              "max        1.000000  296307.000000        NaN      NaN   NaN          NaN   \n",
              "\n",
              "       Arrhythmia History         IPSI Contra   label  \n",
              "count        1520    1518  1516.000000   1520    1517  \n",
              "unique          2       2          NaN     26       3  \n",
              "top            no      no          NaN    100  NoRisk  \n",
              "freq         1190    1494          NaN    283    1008  \n",
              "mean          NaN     NaN    77.872032    NaN     NaN  \n",
              "std           NaN     NaN    10.162351    NaN     NaN  \n",
              "min           NaN     NaN    34.000000    NaN     NaN  \n",
              "25%           NaN     NaN    72.000000    NaN     NaN  \n",
              "50%           NaN     NaN    76.000000    NaN     NaN  \n",
              "75%           NaN     NaN    84.000000    NaN     NaN  \n",
              "max           NaN     NaN    98.000000    NaN     NaN  "
            ],
            "text/html": [
              "\n",
              "  <div id=\"df-b0c859f9-aae1-4d5f-8119-50d57380ccb5\">\n",
              "    <div class=\"colab-df-container\">\n",
              "      <div>\n",
              "<style scoped>\n",
              "    .dataframe tbody tr th:only-of-type {\n",
              "        vertical-align: middle;\n",
              "    }\n",
              "\n",
              "    .dataframe tbody tr th {\n",
              "        vertical-align: top;\n",
              "    }\n",
              "\n",
              "    .dataframe thead th {\n",
              "        text-align: right;\n",
              "    }\n",
              "</style>\n",
              "<table border=\"1\" class=\"dataframe\">\n",
              "  <thead>\n",
              "    <tr style=\"text-align: right;\">\n",
              "      <th></th>\n",
              "      <th>Random</th>\n",
              "      <th>Id</th>\n",
              "      <th>Indication</th>\n",
              "      <th>Diabetes</th>\n",
              "      <th>IHD</th>\n",
              "      <th>Hypertension</th>\n",
              "      <th>Arrhythmia</th>\n",
              "      <th>History</th>\n",
              "      <th>IPSI</th>\n",
              "      <th>Contra</th>\n",
              "      <th>label</th>\n",
              "    </tr>\n",
              "  </thead>\n",
              "  <tbody>\n",
              "    <tr>\n",
              "      <th>count</th>\n",
              "      <td>1520.000000</td>\n",
              "      <td>1520.000000</td>\n",
              "      <td>1517</td>\n",
              "      <td>1518</td>\n",
              "      <td>1520</td>\n",
              "      <td>1517</td>\n",
              "      <td>1520</td>\n",
              "      <td>1518</td>\n",
              "      <td>1516.000000</td>\n",
              "      <td>1520</td>\n",
              "      <td>1517</td>\n",
              "    </tr>\n",
              "    <tr>\n",
              "      <th>unique</th>\n",
              "      <td>NaN</td>\n",
              "      <td>NaN</td>\n",
              "      <td>5</td>\n",
              "      <td>2</td>\n",
              "      <td>2</td>\n",
              "      <td>2</td>\n",
              "      <td>2</td>\n",
              "      <td>2</td>\n",
              "      <td>NaN</td>\n",
              "      <td>26</td>\n",
              "      <td>3</td>\n",
              "    </tr>\n",
              "    <tr>\n",
              "      <th>top</th>\n",
              "      <td>NaN</td>\n",
              "      <td>NaN</td>\n",
              "      <td>A-F</td>\n",
              "      <td>no</td>\n",
              "      <td>no</td>\n",
              "      <td>no</td>\n",
              "      <td>no</td>\n",
              "      <td>no</td>\n",
              "      <td>NaN</td>\n",
              "      <td>100</td>\n",
              "      <td>NoRisk</td>\n",
              "    </tr>\n",
              "    <tr>\n",
              "      <th>freq</th>\n",
              "      <td>NaN</td>\n",
              "      <td>NaN</td>\n",
              "      <td>493</td>\n",
              "      <td>1441</td>\n",
              "      <td>801</td>\n",
              "      <td>784</td>\n",
              "      <td>1190</td>\n",
              "      <td>1494</td>\n",
              "      <td>NaN</td>\n",
              "      <td>283</td>\n",
              "      <td>1008</td>\n",
              "    </tr>\n",
              "    <tr>\n",
              "      <th>mean</th>\n",
              "      <td>0.509681</td>\n",
              "      <td>188694.022368</td>\n",
              "      <td>NaN</td>\n",
              "      <td>NaN</td>\n",
              "      <td>NaN</td>\n",
              "      <td>NaN</td>\n",
              "      <td>NaN</td>\n",
              "      <td>NaN</td>\n",
              "      <td>77.872032</td>\n",
              "      <td>NaN</td>\n",
              "      <td>NaN</td>\n",
              "    </tr>\n",
              "    <tr>\n",
              "      <th>std</th>\n",
              "      <td>0.284247</td>\n",
              "      <td>64355.870242</td>\n",
              "      <td>NaN</td>\n",
              "      <td>NaN</td>\n",
              "      <td>NaN</td>\n",
              "      <td>NaN</td>\n",
              "      <td>NaN</td>\n",
              "      <td>NaN</td>\n",
              "      <td>10.162351</td>\n",
              "      <td>NaN</td>\n",
              "      <td>NaN</td>\n",
              "    </tr>\n",
              "    <tr>\n",
              "      <th>min</th>\n",
              "      <td>0.000000</td>\n",
              "      <td>78590.000000</td>\n",
              "      <td>NaN</td>\n",
              "      <td>NaN</td>\n",
              "      <td>NaN</td>\n",
              "      <td>NaN</td>\n",
              "      <td>NaN</td>\n",
              "      <td>NaN</td>\n",
              "      <td>34.000000</td>\n",
              "      <td>NaN</td>\n",
              "      <td>NaN</td>\n",
              "    </tr>\n",
              "    <tr>\n",
              "      <th>25%</th>\n",
              "      <td>0.268463</td>\n",
              "      <td>137459.750000</td>\n",
              "      <td>NaN</td>\n",
              "      <td>NaN</td>\n",
              "      <td>NaN</td>\n",
              "      <td>NaN</td>\n",
              "      <td>NaN</td>\n",
              "      <td>NaN</td>\n",
              "      <td>72.000000</td>\n",
              "      <td>NaN</td>\n",
              "      <td>NaN</td>\n",
              "    </tr>\n",
              "    <tr>\n",
              "      <th>50%</th>\n",
              "      <td>0.517759</td>\n",
              "      <td>191673.500000</td>\n",
              "      <td>NaN</td>\n",
              "      <td>NaN</td>\n",
              "      <td>NaN</td>\n",
              "      <td>NaN</td>\n",
              "      <td>NaN</td>\n",
              "      <td>NaN</td>\n",
              "      <td>76.000000</td>\n",
              "      <td>NaN</td>\n",
              "      <td>NaN</td>\n",
              "    </tr>\n",
              "    <tr>\n",
              "      <th>75%</th>\n",
              "      <td>0.755068</td>\n",
              "      <td>244888.500000</td>\n",
              "      <td>NaN</td>\n",
              "      <td>NaN</td>\n",
              "      <td>NaN</td>\n",
              "      <td>NaN</td>\n",
              "      <td>NaN</td>\n",
              "      <td>NaN</td>\n",
              "      <td>84.000000</td>\n",
              "      <td>NaN</td>\n",
              "      <td>NaN</td>\n",
              "    </tr>\n",
              "    <tr>\n",
              "      <th>max</th>\n",
              "      <td>1.000000</td>\n",
              "      <td>296307.000000</td>\n",
              "      <td>NaN</td>\n",
              "      <td>NaN</td>\n",
              "      <td>NaN</td>\n",
              "      <td>NaN</td>\n",
              "      <td>NaN</td>\n",
              "      <td>NaN</td>\n",
              "      <td>98.000000</td>\n",
              "      <td>NaN</td>\n",
              "      <td>NaN</td>\n",
              "    </tr>\n",
              "  </tbody>\n",
              "</table>\n",
              "</div>\n",
              "      <button class=\"colab-df-convert\" onclick=\"convertToInteractive('df-b0c859f9-aae1-4d5f-8119-50d57380ccb5')\"\n",
              "              title=\"Convert this dataframe to an interactive table.\"\n",
              "              style=\"display:none;\">\n",
              "        \n",
              "  <svg xmlns=\"http://www.w3.org/2000/svg\" height=\"24px\"viewBox=\"0 0 24 24\"\n",
              "       width=\"24px\">\n",
              "    <path d=\"M0 0h24v24H0V0z\" fill=\"none\"/>\n",
              "    <path d=\"M18.56 5.44l.94 2.06.94-2.06 2.06-.94-2.06-.94-.94-2.06-.94 2.06-2.06.94zm-11 1L8.5 8.5l.94-2.06 2.06-.94-2.06-.94L8.5 2.5l-.94 2.06-2.06.94zm10 10l.94 2.06.94-2.06 2.06-.94-2.06-.94-.94-2.06-.94 2.06-2.06.94z\"/><path d=\"M17.41 7.96l-1.37-1.37c-.4-.4-.92-.59-1.43-.59-.52 0-1.04.2-1.43.59L10.3 9.45l-7.72 7.72c-.78.78-.78 2.05 0 2.83L4 21.41c.39.39.9.59 1.41.59.51 0 1.02-.2 1.41-.59l7.78-7.78 2.81-2.81c.8-.78.8-2.07 0-2.86zM5.41 20L4 18.59l7.72-7.72 1.47 1.35L5.41 20z\"/>\n",
              "  </svg>\n",
              "      </button>\n",
              "      \n",
              "  <style>\n",
              "    .colab-df-container {\n",
              "      display:flex;\n",
              "      flex-wrap:wrap;\n",
              "      gap: 12px;\n",
              "    }\n",
              "\n",
              "    .colab-df-convert {\n",
              "      background-color: #E8F0FE;\n",
              "      border: none;\n",
              "      border-radius: 50%;\n",
              "      cursor: pointer;\n",
              "      display: none;\n",
              "      fill: #1967D2;\n",
              "      height: 32px;\n",
              "      padding: 0 0 0 0;\n",
              "      width: 32px;\n",
              "    }\n",
              "\n",
              "    .colab-df-convert:hover {\n",
              "      background-color: #E2EBFA;\n",
              "      box-shadow: 0px 1px 2px rgba(60, 64, 67, 0.3), 0px 1px 3px 1px rgba(60, 64, 67, 0.15);\n",
              "      fill: #174EA6;\n",
              "    }\n",
              "\n",
              "    [theme=dark] .colab-df-convert {\n",
              "      background-color: #3B4455;\n",
              "      fill: #D2E3FC;\n",
              "    }\n",
              "\n",
              "    [theme=dark] .colab-df-convert:hover {\n",
              "      background-color: #434B5C;\n",
              "      box-shadow: 0px 1px 3px 1px rgba(0, 0, 0, 0.15);\n",
              "      filter: drop-shadow(0px 1px 2px rgba(0, 0, 0, 0.3));\n",
              "      fill: #FFFFFF;\n",
              "    }\n",
              "  </style>\n",
              "\n",
              "      <script>\n",
              "        const buttonEl =\n",
              "          document.querySelector('#df-b0c859f9-aae1-4d5f-8119-50d57380ccb5 button.colab-df-convert');\n",
              "        buttonEl.style.display =\n",
              "          google.colab.kernel.accessAllowed ? 'block' : 'none';\n",
              "\n",
              "        async function convertToInteractive(key) {\n",
              "          const element = document.querySelector('#df-b0c859f9-aae1-4d5f-8119-50d57380ccb5');\n",
              "          const dataTable =\n",
              "            await google.colab.kernel.invokeFunction('convertToInteractive',\n",
              "                                                     [key], {});\n",
              "          if (!dataTable) return;\n",
              "\n",
              "          const docLinkHtml = 'Like what you see? Visit the ' +\n",
              "            '<a target=\"_blank\" href=https://colab.research.google.com/notebooks/data_table.ipynb>data table notebook</a>'\n",
              "            + ' to learn more about interactive tables.';\n",
              "          element.innerHTML = '';\n",
              "          dataTable['output_type'] = 'display_data';\n",
              "          await google.colab.output.renderOutput(dataTable, element);\n",
              "          const docLink = document.createElement('div');\n",
              "          docLink.innerHTML = docLinkHtml;\n",
              "          element.appendChild(docLink);\n",
              "        }\n",
              "      </script>\n",
              "    </div>\n",
              "  </div>\n",
              "  "
            ]
          },
          "metadata": {},
          "execution_count": 6
        }
      ]
    },
    {
      "cell_type": "code",
      "source": [
        "df.shape"
      ],
      "metadata": {
        "colab": {
          "base_uri": "https://localhost:8080/"
        },
        "id": "Kbl6ja1L64BE",
        "outputId": "687a4fe1-4d6c-446f-a68d-6d4246c25cf9"
      },
      "execution_count": 7,
      "outputs": [
        {
          "output_type": "execute_result",
          "data": {
            "text/plain": [
              "(1520, 11)"
            ]
          },
          "metadata": {},
          "execution_count": 7
        }
      ]
    },
    {
      "cell_type": "code",
      "source": [
        "#this checks if there are missing values\n",
        "df.isnull().any() \n"
      ],
      "metadata": {
        "colab": {
          "base_uri": "https://localhost:8080/"
        },
        "id": "KzEM24N8AN3E",
        "outputId": "34807040-fb70-4ccd-e64e-2abb22ee7935"
      },
      "execution_count": 8,
      "outputs": [
        {
          "output_type": "execute_result",
          "data": {
            "text/plain": [
              "Random          False\n",
              "Id              False\n",
              "Indication       True\n",
              "Diabetes         True\n",
              "IHD             False\n",
              "Hypertension     True\n",
              "Arrhythmia      False\n",
              "History          True\n",
              "IPSI             True\n",
              "Contra          False\n",
              "label            True\n",
              "dtype: bool"
            ]
          },
          "metadata": {},
          "execution_count": 8
        }
      ]
    },
    {
      "cell_type": "markdown",
      "source": [
        "**Dealing with Missinf Data**\n",
        "\n",
        "\n",
        "From the Data, i can tell there are some missing values and needs to be delth with \n"
      ],
      "metadata": {
        "id": "Bc4zDt_Y7Lgs"
      }
    },
    {
      "cell_type": "code",
      "source": [
        "df.isnull().sum()"
      ],
      "metadata": {
        "colab": {
          "base_uri": "https://localhost:8080/"
        },
        "id": "njV0P1I-Aptn",
        "outputId": "d9006e4f-92a7-4d6c-a539-9c7d3fd5053a"
      },
      "execution_count": 9,
      "outputs": [
        {
          "output_type": "execute_result",
          "data": {
            "text/plain": [
              "Random          0\n",
              "Id              0\n",
              "Indication      3\n",
              "Diabetes        2\n",
              "IHD             0\n",
              "Hypertension    3\n",
              "Arrhythmia      0\n",
              "History         2\n",
              "IPSI            4\n",
              "Contra          0\n",
              "label           3\n",
              "dtype: int64"
            ]
          },
          "metadata": {},
          "execution_count": 9
        }
      ]
    },
    {
      "cell_type": "code",
      "source": [
        "#Fill the missing values\n",
        "df['Indication'] = df['Indication'].fillna(df['Indication'].mode()[0])\n",
        "df['Diabetes'] = df['Diabetes'].fillna(df['Diabetes'].mode()[0])\n",
        "df['Hypertension'] = df['Hypertension'].fillna(df['Hypertension'].mode()[0])\n",
        "df['History'] = df['History'].fillna(df['History'].mode()[0])\n",
        "df['IPSI'] = df['IPSI'].fillna(df['IPSI'].mean())\n",
        "df['label'] = df['label'].fillna(df['label'].mode()[0])"
      ],
      "metadata": {
        "id": "Tbh8Pka_Azf-"
      },
      "execution_count": 10,
      "outputs": []
    },
    {
      "cell_type": "code",
      "source": [
        "#get rid of unkown values\n",
        "df['label'] = df['label'].str.replace('Unknown', df['label'].mode()[0], )"
      ],
      "metadata": {
        "id": "Xukx36PvA7hT"
      },
      "execution_count": 11,
      "outputs": []
    },
    {
      "cell_type": "code",
      "source": [
        "#replacement of contra values with mode \n",
        "df['Contra'] = df['Contra'].str.replace(' ', df['Contra'].mode()[0], )\n",
        "df['Contra'] = df['Contra'].astype(float)\n",
        "print(df)"
      ],
      "metadata": {
        "colab": {
          "base_uri": "https://localhost:8080/"
        },
        "id": "9_DUehLCBDKW",
        "outputId": "8448015d-80aa-4004-c5f9-26ed9ebf8530"
      },
      "execution_count": 12,
      "outputs": [
        {
          "output_type": "stream",
          "name": "stdout",
          "text": [
            "        Random      Id Indication Diabetes  IHD Hypertension Arrhythmia  \\\n",
            "0     0.473452  198992        CVA      yes  yes          yes        yes   \n",
            "1     0.218756  253100        CVA       no   no           no         no   \n",
            "2     0.131260  155737        CVA       no  yes          yes         no   \n",
            "3     0.102954  251222        A-F       no  yes           no         no   \n",
            "4     0.236142  197183        CVA       no   no           no         no   \n",
            "...        ...     ...        ...      ...  ...          ...        ...   \n",
            "1515  0.587315  113117        Asx       no  yes          yes        yes   \n",
            "1516  0.932265  103595        CVA       no  yes          yes         no   \n",
            "1517  0.876531  211309        CVA       no   no          yes         no   \n",
            "1518  0.812032  116379        TIA       no   no          yes        yes   \n",
            "1519  0.517688  172848        A-F       no   no           no         no   \n",
            "\n",
            "     History  IPSI  Contra   label  \n",
            "0         no  89.0   100.0    Risk  \n",
            "1         no  67.0   100.0  NoRisk  \n",
            "2         no  79.0    20.0  NoRisk  \n",
            "3         no  69.0    40.0  NoRisk  \n",
            "4         no  89.0    30.0  NoRisk  \n",
            "...      ...   ...     ...     ...  \n",
            "1515      no  74.0   100.0    Risk  \n",
            "1516      no  84.0    50.0  NoRisk  \n",
            "1517      no  76.0    20.0  NoRisk  \n",
            "1518      no  75.0    35.0  NoRisk  \n",
            "1519      no  81.0    30.0  NoRisk  \n",
            "\n",
            "[1520 rows x 11 columns]\n"
          ]
        }
      ]
    },
    {
      "cell_type": "code",
      "source": [
        "#Count values\n",
        "countValues_label = df['label'].value_counts()\n",
        "countValues_label"
      ],
      "metadata": {
        "colab": {
          "base_uri": "https://localhost:8080/"
        },
        "id": "KhQBvP6HBPns",
        "outputId": "1ea25a26-efb4-4f78-a1db-1be45969a4ac"
      },
      "execution_count": 13,
      "outputs": [
        {
          "output_type": "execute_result",
          "data": {
            "text/plain": [
              "NoRisk    1013\n",
              "Risk       507\n",
              "Name: label, dtype: int64"
            ]
          },
          "metadata": {},
          "execution_count": 13
        }
      ]
    },
    {
      "cell_type": "code",
      "source": [
        "#Displays a bar graph of values of lable column\n",
        "barGrp = countValues_label.plot(kind='bar',figsize=(12,8), width=0.40 ,color=['blue','yellow'] ,fontsize=15, title='Display of Bar graph with values of label column' )\n",
        "barGrp.set_xlabel(\"label\",fontsize=15)      \n",
        "barGrp.set_ylabel(\"Count\",fontsize=15)\n",
        "plt.show()"
      ],
      "metadata": {
        "colab": {
          "base_uri": "https://localhost:8080/",
          "height": 781
        },
        "id": "ct7rSKFmBj6C",
        "outputId": "52211b45-99d3-48a4-ae66-2e0239f083de"
      },
      "execution_count": 17,
      "outputs": [
        {
          "output_type": "display_data",
          "data": {
            "text/plain": [
              "<Figure size 1200x800 with 1 Axes>"
            ],
            "image/png": "[encoded data removed]"
          },
          "metadata": {}
        }
      ]
    },
    {
      "cell_type": "code",
      "source": [
        "df.dtypes"
      ],
      "metadata": {
        "colab": {
          "base_uri": "https://localhost:8080/"
        },
        "id": "rl583Gpj-et7",
        "outputId": "ae6ab0d6-177a-4bc9-8a14-b22199879f9f"
      },
      "execution_count": 15,
      "outputs": [
        {
          "output_type": "execute_result",
          "data": {
            "text/plain": [
              "Random          float64\n",
              "Id                int64\n",
              "Indication       object\n",
              "Diabetes         object\n",
              "IHD              object\n",
              "Hypertension     object\n",
              "Arrhythmia       object\n",
              "History          object\n",
              "IPSI            float64\n",
              "Contra          float64\n",
              "label            object\n",
              "dtype: object"
            ]
          },
          "metadata": {},
          "execution_count": 15
        }
      ]
    }
  ]
}